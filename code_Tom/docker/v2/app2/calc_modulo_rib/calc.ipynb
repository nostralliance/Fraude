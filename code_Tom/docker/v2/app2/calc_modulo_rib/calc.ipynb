{
 "cells": [
  {
   "cell_type": "markdown",
   "metadata": {},
   "source": [
    "# Calcule modulo\n",
    "---\n",
    "## Introduction\n",
    "Pour controler si un Iban est vrais ou faux, le résultat de l'iban modifier modulo 97 doit etre égale a 1\n",
    "\n",
    "## Démarche\n",
    "exemple de RIB : FR76 1250 6700 0156 5360 5773 639\n",
    "\n",
    "on commence par déplacé les deux lettres et les deux chiffre du début a la fin de chaine ce qui donne : \n",
    "1250 6700 0156 5360 5773 639 FR76\n",
    "\n",
    "Ensuite on modifie les lettres en nombre (A=10, B=11, C=12 ...), ce qui me donne : \n",
    "1250 6700 0156 5360 5773 639 152776\n",
    "\n",
    "Pour finir c'est tout ce nombre qui est modulo97 : \n",
    "1250 6700 0156 5360 5773 639 152776 % 97 = 1\n",
    "donc cette iban est vrais car le résultat du modulo est égale a 1"
   ]
  },
  {
   "cell_type": "code",
   "execution_count": 1,
   "metadata": {},
   "outputs": [],
   "source": [
    "def convert_iban_to_numeric(iban):\n",
    "    \"\"\"Convertit un IBAN en une chaîne numérique.\"\"\"\n",
    "    iban = iban.replace(' ', '')  # Retirer les espaces\n",
    "    iban = iban[4:] + iban[:4]  # Déplacer les quatre premiers caractères à la fin\n",
    "    numeric_iban = ''\n",
    "    for char in iban:\n",
    "        if char.isdigit():\n",
    "            numeric_iban += char\n",
    "        else:\n",
    "            numeric_iban += str(ord(char) - 55)  # Convertir les lettres en chiffres (A=10, B=11, ..., Z=35)\n",
    "    return numeric_iban\n",
    "\n",
    "def is_valid_iban(iban):\n",
    "    \"\"\"Vérifie si un IBAN est valide en utilisant le modulo 97.\"\"\"\n",
    "    numeric_iban = convert_iban_to_numeric(iban)\n",
    "    # Diviser le grand nombre par 97 et obtenir le reste\n",
    "    remainder = int(numeric_iban) % 97\n",
    "    return remainder == 1\n"
   ]
  },
  {
   "cell_type": "code",
   "execution_count": 11,
   "metadata": {},
   "outputs": [
    {
     "name": "stdout",
     "output_type": "stream",
     "text": [
      "L'IBAN est valide.\n"
     ]
    }
   ],
   "source": [
    "\n",
    "# Exemple d'utilisation\n",
    "iban = 'FR7641199110541234567890180'\n",
    "if is_valid_iban(iban):\n",
    "    print(\"L'IBAN est valide.\")\n",
    "else:\n",
    "    print(\"L'IBAN est invalide.\")"
   ]
  }
 ],
 "metadata": {
  "kernelspec": {
   "display_name": "Python 3",
   "language": "python",
   "name": "python3"
  },
  "language_info": {
   "codemirror_mode": {
    "name": "ipython",
    "version": 3
   },
   "file_extension": ".py",
   "mimetype": "text/x-python",
   "name": "python",
   "nbconvert_exporter": "python",
   "pygments_lexer": "ipython3",
   "version": "3.9.0"
  }
 },
 "nbformat": 4,
 "nbformat_minor": 2
}
