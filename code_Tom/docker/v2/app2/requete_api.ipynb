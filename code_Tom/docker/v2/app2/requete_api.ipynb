{
 "cells": [
  {
   "cell_type": "code",
   "execution_count": 1,
   "metadata": {},
   "outputs": [],
   "source": [
    "import requests\n"
   ]
  },
  {
   "cell_type": "code",
   "execution_count": 10,
   "metadata": {},
   "outputs": [
    {
     "name": "stdout",
     "output_type": "stream",
     "text": [
      "200\n",
      "{'results': [{'id': '1', 'result': 'ko', 'motif': 'Pas de suspicion de fraude sur cette facture'}, {'id': '1', 'result': 'ok', 'motif': 'reference archivage fausse sur facture'}, {'id': '3', 'result': 'ok', 'motif': 'reference archivage fausse sur facture'}]}\n"
     ]
    }
   ],
   "source": [
    "\n",
    "# URL de l'endpoint\n",
    "url = \"http://localhost:8001/plusieurs_documents\"\n",
    "\n",
    "# Liste des fichiers et leurs identifiants\n",
    "files_and_ids = [\n",
    "    {\"id\": \"1\", \"file_path\": r\"C:\\Users\\tomlo\\Documents\\GitHub\\Fraude\\code_Tom\\MMC_MUTEST\\MMC\\02-01-2024\\SKM_30824010311320.pdf\"},\n",
    "    {\"id\": \"1\", \"file_path\": r\"C:\\Users\\tomlo\\Documents\\GitHub\\Fraude\\code_Tom\\MMC_MUTEST\\MMC\\03-05-2024\\SKM_30824050315580.pdf\"},\n",
    "    {\"id\": \"3\", \"file_path\": r\"C:\\Users\\tomlo\\Documents\\GitHub\\Fraude\\code_Tom\\MMC_MUTEST\\MMC\\03-05-2024\\SKM_30824050315580v3.pdf\"}\n",
    "    # Ajoutez autant de fichiers que nécessaire\n",
    "]\n",
    "\n",
    "# Préparer les données pour la requête\n",
    "data = []\n",
    "files = []\n",
    "\n",
    "for item in files_and_ids:\n",
    "    data.append((\"id\", item[\"id\"]))\n",
    "    files.append((\"file_path\", (item[\"file_path\"], open(item[\"file_path\"], \"rb\"), \"application/octet-stream\")))\n",
    "\n",
    "# Envoyer la requête POST\n",
    "response = requests.post(url, data=data, files=files)\n",
    "\n",
    "# Afficher la réponse\n",
    "print(response.status_code)\n",
    "print(response.json())\n"
   ]
  }
 ],
 "metadata": {
  "kernelspec": {
   "display_name": "Python 3",
   "language": "python",
   "name": "python3"
  },
  "language_info": {
   "codemirror_mode": {
    "name": "ipython",
    "version": 3
   },
   "file_extension": ".py",
   "mimetype": "text/x-python",
   "name": "python",
   "nbconvert_exporter": "python",
   "pygments_lexer": "ipython3",
   "version": "3.9.13"
  }
 },
 "nbformat": 4,
 "nbformat_minor": 2
}
