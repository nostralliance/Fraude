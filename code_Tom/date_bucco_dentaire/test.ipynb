{
 "cells": [
  {
   "cell_type": "code",
   "execution_count": 1,
   "metadata": {},
   "outputs": [],
   "source": [
    "import re "
   ]
  },
  {
   "cell_type": "code",
   "execution_count": 2,
   "metadata": {},
   "outputs": [],
   "source": [
    "texte = \"DEVIS POUR LES TRAITEMENTS ET ACTES BUCCO-DENTAIRES FAISANT L'OBJET D'UNE ENTENTE DIRECTEDevis 1637-2Page */1conformément aux dispositions de la convention nationale des_chirurgiens-dentistes_(publiée_au JO du 25 août 20182Ce devis est la proprieté du patient ou de son représentant légal. La communication de ce document à un tiers se fait sous sa seule responsabilité Ce devis est informatif , les montants des honoraires et prisesencharge sont définis selon les droits effectifs à la date de realisation ae lacte Les soins à tarifs opposaples ne sont pas compris dans ce devisIdentification du chirurgien-dentiste traitantIdentification du patientDocteur Chantal KOBLAVINom et prénomGOMES VAZ AstouSERVICE COURRIER LEIdentifiant du praticienNPRPPS : 10005213003Date de naissance22/02/1959Raison sociale et adresseDr Chantal KOBLAVIN' de sécurité sociale du patient2 59 02 99 341 337 97Date du devis : 26/06/2024A remplir par l'assuré si celui-ci souhaite envoyer ce devis à sonorgalis H bor292Hentaire pourValable jusqu'au {sous reserve de roditicaticn réglementaire)\""
   ]
  },
  {
   "cell_type": "code",
   "execution_count": 16,
   "metadata": {},
   "outputs": [],
   "source": [
    "pattern = r'[Dd][Ee][Vv][Ii][Ss]'\n",
    "search = re.findall(pattern, texte)"
   ]
  },
  {
   "cell_type": "code",
   "execution_count": 17,
   "metadata": {},
   "outputs": [
    {
     "data": {
      "text/plain": [
       "['DEVIS', 'Devis', 'devis', 'devis', 'devis', 'devis', 'devis']"
      ]
     },
     "execution_count": 17,
     "metadata": {},
     "output_type": "execute_result"
    }
   ],
   "source": [
    "search"
   ]
  }
 ],
 "metadata": {
  "kernelspec": {
   "display_name": "Python 3",
   "language": "python",
   "name": "python3"
  },
  "language_info": {
   "codemirror_mode": {
    "name": "ipython",
    "version": 3
   },
   "file_extension": ".py",
   "mimetype": "text/x-python",
   "name": "python",
   "nbconvert_exporter": "python",
   "pygments_lexer": "ipython3",
   "version": "3.9.0"
  }
 },
 "nbformat": 4,
 "nbformat_minor": 2
}
