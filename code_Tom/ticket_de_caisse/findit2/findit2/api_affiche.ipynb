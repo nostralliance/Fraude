{
 "cells": [
  {
   "cell_type": "code",
   "execution_count": 1,
   "metadata": {},
   "outputs": [],
   "source": [
    "import firebase_admin\n",
    "from firebase_admin import credentials\n",
    "from fastapi import FastAPI, HTTPException\n",
    "from firebase_admin import storage, credentials\n",
    "import firebase_admin\n",
    "from datetime import datetime, timedelta"
   ]
  },
  {
   "cell_type": "code",
   "execution_count": 2,
   "metadata": {},
   "outputs": [
    {
     "data": {
      "text/plain": [
       "<firebase_admin.App at 0x1c958541850>"
      ]
     },
     "execution_count": 2,
     "metadata": {},
     "output_type": "execute_result"
    }
   ],
   "source": [
    "cred = credentials.Certificate(r\"C:\\Users\\tomlo\\Documents\\GitHub\\Fraude\\code_Tom\\ticket_de_caisse\\findit2\\findit2\\ticket-38478-cfb269221bc1.json\")\n",
    "firebase_admin.initialize_app(cred,{'storageBucket': 'ticket-38478.appspot.com'}) # connecting to firebase"
   ]
  },
  {
   "cell_type": "code",
   "execution_count": 3,
   "metadata": {},
   "outputs": [],
   "source": [
    "from firebase_admin import storage, credentials\n",
    "from fastapi import FastAPI, HTTPException\n",
    "from datetime import datetime, timedelta\n",
    "\n",
    "app = FastAPI()\n",
    "\n",
    "@app.get(\"/images\")\n",
    "async def get_images():\n",
    "    # Récupérer une référence au bucket de stockage\n",
    "    bucket = storage.bucket()\n",
    "\n",
    "    # Liste des objets (images) dans le bucket\n",
    "    blobs = bucket.list_blobs()\n",
    "\n",
    "    # Liste pour stocker les noms des images\n",
    "    image_names = []\n",
    "\n",
    "    # Parcourir tous les blobs dans le bucket\n",
    "    for blob in blobs:\n",
    "        # Ajouter le nom de l'image à la liste\n",
    "        image_names.append(blob.name)\n",
    "\n",
    "    return {\"image_names\": image_names}"
   ]
  },
  {
   "cell_type": "code",
   "execution_count": 4,
   "metadata": {},
   "outputs": [
    {
     "name": "stderr",
     "output_type": "stream",
     "text": [
      "INFO:     Started server process [12292]\n",
      "INFO:     Waiting for application startup.\n",
      "INFO:     Application startup complete.\n",
      "INFO:     Uvicorn running on http://0.0.0.0:8080 (Press CTRL+C to quit)\n"
     ]
    },
    {
     "name": "stdout",
     "output_type": "stream",
     "text": [
      "INFO:     127.0.0.1:63186 - \"GET /images HTTP/1.1\" 200 OK\n",
      "INFO:     127.0.0.1:63208 - \"GET /images HTTP/1.1\" 200 OK\n",
      "INFO:     127.0.0.1:63384 - \"GET /images HTTP/1.1\" 200 OK\n",
      "INFO:     127.0.0.1:63412 - \"GET /images HTTP/1.1\" 200 OK\n",
      "INFO:     127.0.0.1:63440 - \"GET /images HTTP/1.1\" 200 OK\n",
      "INFO:     127.0.0.1:63491 - \"GET /images HTTP/1.1\" 200 OK\n",
      "INFO:     127.0.0.1:63503 - \"GET /images HTTP/1.1\" 200 OK\n",
      "INFO:     127.0.0.1:63555 - \"GET /images HTTP/1.1\" 200 OK\n"
     ]
    }
   ],
   "source": [
    "import uvicorn\n",
    "\n",
    "# Exécutez le serveur FastAPI dans une fonction\n",
    "def run_server():\n",
    "    uvicorn.run(app, host=\"0.0.0.0\", port=8080)\n",
    "\n",
    "# Créez un thread pour exécuter le serveur\n",
    "import threading\n",
    "server_thread = threading.Thread(target=run_server)\n",
    "\n",
    "# Démarrer le thread du serveur\n",
    "server_thread.start()"
   ]
  },
  {
   "cell_type": "code",
   "execution_count": null,
   "metadata": {},
   "outputs": [],
   "source": []
  }
 ],
 "metadata": {
  "kernelspec": {
   "display_name": "base",
   "language": "python",
   "name": "python3"
  },
  "language_info": {
   "codemirror_mode": {
    "name": "ipython",
    "version": 3
   },
   "file_extension": ".py",
   "mimetype": "text/x-python",
   "name": "python",
   "nbconvert_exporter": "python",
   "pygments_lexer": "ipython3",
   "version": "3.9.13"
  }
 },
 "nbformat": 4,
 "nbformat_minor": 2
}
