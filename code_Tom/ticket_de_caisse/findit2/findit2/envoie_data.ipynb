{
 "cells": [
  {
   "cell_type": "code",
   "execution_count": null,
   "metadata": {},
   "outputs": [],
   "source": [
    "#import des bibliothèques\n",
    "\n",
    "import firebase_admin\n",
    "from firebase_admin import credentials, storage\n",
    "from PIL import Image\n",
    "import io\n",
    "import os"
   ]
  },
  {
   "cell_type": "code",
   "execution_count": null,
   "metadata": {},
   "outputs": [],
   "source": [
    "# connexion à Firebase et accès au service de stockage cloud \n",
    "\n",
    "from firebase_admin import credentials, storage\n",
    "cred = credentials.Certificate(r\"C:\\Users\\tomlo\\Documents\\GitHub\\Fraude\\code_Tom\\ticket_de_caisse\\findit2\\findit2\\ticket-38478-cfb269221bc1.json\")\n",
    "firebase_admin.initialize_app(cred,{'storageBucket': 'ticket-38478.appspot.com'}) # connecting to firebase"
   ]
  },
  {
   "cell_type": "code",
   "execution_count": null,
   "metadata": {},
   "outputs": [],
   "source": [
    "\n",
    "# Chemin du dossier contenant les images\n",
    "folder_path = r\"C:\\Users\\tomlo\\Documents\\GitHub\\Fraude\\code_Tom\\ticket_de_caisse\\findit2\\findit2\"\n",
    "\n",
    "# Initialisation du bucket de stockage\n",
    "bucket = storage.bucket()\n",
    "\n",
    "# Liste des fichiers dans le dossier\n",
    "files = os.listdir(folder_path)\n",
    "\n",
    "# Télécharger chaque fichier dans le bucket\n",
    "for file_name in files:\n",
    "    if file_name.endswith('.jpg'):  # Assurez-vous que seuls les fichiers jpg sont téléchargés\n",
    "        file_path = os.path.join(folder_path, file_name)\n",
    "        blob = bucket.blob(file_name)  # Utilisez le nom du fichier comme nom de blob\n",
    "        blob.upload_from_filename(file_path)\n",
    "        print(f\"{file_name} téléchargé avec succès.\")\n"
   ]
  }
 ],
 "metadata": {
  "kernelspec": {
   "display_name": "base",
   "language": "python",
   "name": "python3"
  },
  "language_info": {
   "codemirror_mode": {
    "name": "ipython",
    "version": 3
   },
   "file_extension": ".py",
   "mimetype": "text/x-python",
   "name": "python",
   "nbconvert_exporter": "python",
   "pygments_lexer": "ipython3",
   "version": "3.9.13"
  }
 },
 "nbformat": 4,
 "nbformat_minor": 2
}
