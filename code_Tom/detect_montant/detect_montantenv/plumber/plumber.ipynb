{
 "cells": [
  {
   "cell_type": "code",
   "execution_count": 45,
   "metadata": {},
   "outputs": [],
   "source": [
    "import pdfplumber\n",
    "import pandas as pd\n",
    "import re\n",
    "import json"
   ]
  },
  {
   "cell_type": "markdown",
   "metadata": {},
   "source": [
    "---  \n",
    "# PDFplumber"
   ]
  },
  {
   "cell_type": "code",
   "execution_count": 46,
   "metadata": {},
   "outputs": [],
   "source": [
    "# Chemin vers votre fichier PDF\n",
    "pdf_path = r\"C:\\Users\\pierrontl\\Documents\\GitHub\\Fraude\\code_Tom\\detect_montant\\detect_montantenv\\test_pdf\\f323dceb7808_1729514526151.pdf\"\n",
    "\n",
    "# Liste pour stocker les données des caractères\n",
    "data = []"
   ]
  },
  {
   "cell_type": "markdown",
   "metadata": {},
   "source": [
    "## Information sur les caractères"
   ]
  },
  {
   "cell_type": "code",
   "execution_count": 47,
   "metadata": {},
   "outputs": [],
   "source": [
    "# Ouvrir le fichier PDF\n",
    "with pdfplumber.open(pdf_path) as pdf:\n",
    "    first_page = pdf.pages[0]  # Prendre la première page\n",
    "    for char in first_page.chars:  # Parcourir tous les caractères\n",
    "        # Extraire les informations souhaitées\n",
    "        char_info = {\n",
    "            'text': char['text'],\n",
    "            'fontname': char['fontname'], # La police du caractère \n",
    "            'size': char['size'],\n",
    "            'x0': char['x0'],\n",
    "            'y0': char['y0'],\n",
    "            'x1': char['x1'],\n",
    "            'y1': char['y1'],\n",
    "            'width': char['width'],\n",
    "            'height': char['height'],\n",
    "            'page_number': char['page_number'],\n",
    "            'stroking_color': char['stroking_color'],\n",
    "            'non_stroking_color': char['non_stroking_color'],\n",
    "            'upright': char['upright']\n",
    "        }\n",
    "        data.append(char_info)  # Ajouter les informations à la liste"
   ]
  },
  {
   "cell_type": "markdown",
   "metadata": {},
   "source": [
    "## Création du dataframe "
   ]
  },
  {
   "cell_type": "code",
   "execution_count": 48,
   "metadata": {},
   "outputs": [
    {
     "data": {
      "text/html": [
       "<div>\n",
       "<style scoped>\n",
       "    .dataframe tbody tr th:only-of-type {\n",
       "        vertical-align: middle;\n",
       "    }\n",
       "\n",
       "    .dataframe tbody tr th {\n",
       "        vertical-align: top;\n",
       "    }\n",
       "\n",
       "    .dataframe thead th {\n",
       "        text-align: right;\n",
       "    }\n",
       "</style>\n",
       "<table border=\"1\" class=\"dataframe\">\n",
       "  <thead>\n",
       "    <tr style=\"text-align: right;\">\n",
       "      <th></th>\n",
       "      <th>text</th>\n",
       "      <th>fontname</th>\n",
       "      <th>size</th>\n",
       "      <th>x0</th>\n",
       "      <th>y0</th>\n",
       "      <th>x1</th>\n",
       "      <th>y1</th>\n",
       "      <th>width</th>\n",
       "      <th>height</th>\n",
       "      <th>page_number</th>\n",
       "      <th>stroking_color</th>\n",
       "      <th>non_stroking_color</th>\n",
       "      <th>upright</th>\n",
       "    </tr>\n",
       "  </thead>\n",
       "  <tbody>\n",
       "    <tr>\n",
       "      <th>0</th>\n",
       "      <td>F</td>\n",
       "      <td>BZZZZZ+Montserrat-Bold</td>\n",
       "      <td>14.0</td>\n",
       "      <td>186.466</td>\n",
       "      <td>764.824</td>\n",
       "      <td>195.412</td>\n",
       "      <td>778.824</td>\n",
       "      <td>8.946</td>\n",
       "      <td>14.0</td>\n",
       "      <td>1</td>\n",
       "      <td>None</td>\n",
       "      <td>(0.050980392156862744, 0.13725490196078433, 0....</td>\n",
       "      <td>True</td>\n",
       "    </tr>\n",
       "    <tr>\n",
       "      <th>1</th>\n",
       "      <td>a</td>\n",
       "      <td>BZZZZZ+Montserrat-Bold</td>\n",
       "      <td>14.0</td>\n",
       "      <td>195.202</td>\n",
       "      <td>764.824</td>\n",
       "      <td>203.840</td>\n",
       "      <td>778.824</td>\n",
       "      <td>8.638</td>\n",
       "      <td>14.0</td>\n",
       "      <td>1</td>\n",
       "      <td>None</td>\n",
       "      <td>(0.050980392156862744, 0.13725490196078433, 0....</td>\n",
       "      <td>True</td>\n",
       "    </tr>\n",
       "    <tr>\n",
       "      <th>2</th>\n",
       "      <td>c</td>\n",
       "      <td>BZZZZZ+Montserrat-Bold</td>\n",
       "      <td>14.0</td>\n",
       "      <td>203.924</td>\n",
       "      <td>764.824</td>\n",
       "      <td>212.198</td>\n",
       "      <td>778.824</td>\n",
       "      <td>8.274</td>\n",
       "      <td>14.0</td>\n",
       "      <td>1</td>\n",
       "      <td>None</td>\n",
       "      <td>(0.050980392156862744, 0.13725490196078433, 0....</td>\n",
       "      <td>True</td>\n",
       "    </tr>\n",
       "    <tr>\n",
       "      <th>3</th>\n",
       "      <td>t</td>\n",
       "      <td>BZZZZZ+Montserrat-Bold</td>\n",
       "      <td>14.0</td>\n",
       "      <td>212.310</td>\n",
       "      <td>764.824</td>\n",
       "      <td>218.400</td>\n",
       "      <td>778.824</td>\n",
       "      <td>6.090</td>\n",
       "      <td>14.0</td>\n",
       "      <td>1</td>\n",
       "      <td>None</td>\n",
       "      <td>(0.050980392156862744, 0.13725490196078433, 0....</td>\n",
       "      <td>True</td>\n",
       "    </tr>\n",
       "    <tr>\n",
       "      <th>4</th>\n",
       "      <td>u</td>\n",
       "      <td>BZZZZZ+Montserrat-Bold</td>\n",
       "      <td>14.0</td>\n",
       "      <td>218.400</td>\n",
       "      <td>764.824</td>\n",
       "      <td>228.018</td>\n",
       "      <td>778.824</td>\n",
       "      <td>9.618</td>\n",
       "      <td>14.0</td>\n",
       "      <td>1</td>\n",
       "      <td>None</td>\n",
       "      <td>(0.050980392156862744, 0.13725490196078433, 0....</td>\n",
       "      <td>True</td>\n",
       "    </tr>\n",
       "  </tbody>\n",
       "</table>\n",
       "</div>"
      ],
      "text/plain": [
       "  text                fontname  size       x0       y0       x1       y1  \\\n",
       "0    F  BZZZZZ+Montserrat-Bold  14.0  186.466  764.824  195.412  778.824   \n",
       "1    a  BZZZZZ+Montserrat-Bold  14.0  195.202  764.824  203.840  778.824   \n",
       "2    c  BZZZZZ+Montserrat-Bold  14.0  203.924  764.824  212.198  778.824   \n",
       "3    t  BZZZZZ+Montserrat-Bold  14.0  212.310  764.824  218.400  778.824   \n",
       "4    u  BZZZZZ+Montserrat-Bold  14.0  218.400  764.824  228.018  778.824   \n",
       "\n",
       "   width  height  page_number stroking_color  \\\n",
       "0  8.946    14.0            1           None   \n",
       "1  8.638    14.0            1           None   \n",
       "2  8.274    14.0            1           None   \n",
       "3  6.090    14.0            1           None   \n",
       "4  9.618    14.0            1           None   \n",
       "\n",
       "                                  non_stroking_color  upright  \n",
       "0  (0.050980392156862744, 0.13725490196078433, 0....     True  \n",
       "1  (0.050980392156862744, 0.13725490196078433, 0....     True  \n",
       "2  (0.050980392156862744, 0.13725490196078433, 0....     True  \n",
       "3  (0.050980392156862744, 0.13725490196078433, 0....     True  \n",
       "4  (0.050980392156862744, 0.13725490196078433, 0....     True  "
      ]
     },
     "execution_count": 48,
     "metadata": {},
     "output_type": "execute_result"
    }
   ],
   "source": [
    "# Créer un DataFrame pandas à partir de la liste\n",
    "df_tout_montant = pd.DataFrame(data)\n",
    "df_tout_montant.head()"
   ]
  },
  {
   "cell_type": "markdown",
   "metadata": {},
   "source": [
    "## Extraire les montants"
   ]
  },
  {
   "cell_type": "code",
   "execution_count": 49,
   "metadata": {},
   "outputs": [
    {
     "name": "stdout",
     "output_type": "stream",
     "text": [
      "Montants extraits : ['100,00 ', '42,50 €', '0,00 €', '97,50 €', '97,50 €', '55,00 €', '42,50 €', '0,00 €']\n"
     ]
    }
   ],
   "source": [
    "montants = []\n",
    "for page in pdf.pages:\n",
    "    # Extraire le texte brut de la page\n",
    "    texte = page.extract_text()\n",
    "    if texte:\n",
    "        # Le motif ci-dessous cherche des montants au format 123.45, $123.45, ou 123,45 €\n",
    "        motifs = re.findall(r'(\\d+[ ]?[,][ ]?\\d{2} ?[€]?)', texte)\n",
    "        # Ajouter les montants à la liste\n",
    "        montants.extend(motifs)\n",
    "\n",
    "# Afficher les montants trouvés\n",
    "print(\"Montants extraits :\", montants)"
   ]
  },
  {
   "cell_type": "markdown",
   "metadata": {},
   "source": [
    "le regex doit prendre les montants : "
   ]
  },
  {
   "cell_type": "markdown",
   "metadata": {},
   "source": [
    "100 000 avec espace  \n",
    "a virgule  \n",
    "avec devise  \n",
    "avec le point\n",
    "\n"
   ]
  },
  {
   "cell_type": "markdown",
   "metadata": {},
   "source": [
    "puis ensuite lister tout les montants capter par le regex  \n",
    "pour les faires correler avec les montants qui sont présents dans le tableau  \n",
    "\n",
    "puis par la suite essayer de trouver qu'elle sont les montant total, net, taxes ..."
   ]
  },
  {
   "cell_type": "markdown",
   "metadata": {},
   "source": [
    "# Comment détecter des montants dans un tableau "
   ]
  },
  {
   "cell_type": "code",
   "execution_count": 50,
   "metadata": {},
   "outputs": [],
   "source": [
    "# %pip install jpype1\n",
    "# %pip install tabula-py"
   ]
  },
  {
   "cell_type": "code",
   "execution_count": 51,
   "metadata": {},
   "outputs": [],
   "source": [
    "import tabula"
   ]
  },
  {
   "cell_type": "markdown",
   "metadata": {},
   "source": [
    "## Détecter des tableaux"
   ]
  },
  {
   "cell_type": "code",
   "execution_count": 52,
   "metadata": {},
   "outputs": [],
   "source": [
    "# Chemin vers votre fichier PDF\n",
    "pdf_file = r\"C:\\Users\\pierrontl\\Documents\\GitHub\\Fraude\\code_Tom\\detect_montant\\detect_montantenv\\test_pdf\\f323dceb7808_1729514526469.pdf\"\n",
    "output_json = r\"C:\\Users\\pierrontl\\Documents\\GitHub\\Fraude\\code_Tom\\detect_montant\\detect_montantenv\\plumber\\output.json\"\n",
    "# Extraire les tableaux de toutes les pages\n",
    "tables = tabula.read_pdf(pdf_file, pages='all', multiple_tables=True)\n",
    "\n",
    "\n",
    "# Sauvegarder les tableaux en json\n",
    "tabula.convert_into(pdf_file, r\"C:\\Users\\pierrontl\\Documents\\GitHub\\Fraude\\code_Tom\\detect_montant\\detect_montantenv\\plumber\\output.json\", output_format=\"json\", pages='all')"
   ]
  },
  {
   "cell_type": "code",
   "execution_count": 53,
   "metadata": {},
   "outputs": [],
   "source": [
    "# Ouvrir et charger le fichier JSON\n",
    "with open(output_json, 'r', encoding='utf-8') as f:\n",
    "    data_json = json.load(f)"
   ]
  },
  {
   "cell_type": "markdown",
   "metadata": {},
   "source": [
    "## Extraire les données du tableau"
   ]
  },
  {
   "cell_type": "code",
   "execution_count": 54,
   "metadata": {},
   "outputs": [
    {
     "name": "stdout",
     "output_type": "stream",
     "text": [
      "Aucun tableau détecté.\n"
     ]
    }
   ],
   "source": [
    "# Liste pour stocker les lignes traitées\n",
    "rows = []\n",
    "\n",
    "# Vérifier si 'data_json' contient des données\n",
    "if len(data_json) > 0:\n",
    "    for row in data_json[0]['data']:\n",
    "        # Pour chaque cellule, extraire le texte et traiter les \\r\\r\\r ou \\r\\r\\r\\r comme des sauts de ligne\n",
    "        processed_row = []\n",
    "        for cell in row:\n",
    "            # Diviser le texte lorsqu'on rencontre \\r\\r\\r ou plus\n",
    "            split_content = re.split(r'\\r{3,}', cell['text'])\n",
    "            # Ajouter le contenu traité à la ligne\n",
    "            processed_row.append(split_content)\n",
    "        \n",
    "        # Ajouter la ligne traitée à la liste des lignes\n",
    "        rows.append(processed_row)\n",
    "\n",
    "    # À ce stade, `rows` contient des listes de listes (car chaque cellule peut avoir plusieurs parties)\n",
    "    # On va aplatir les données pour créer un nouveau DataFrame en traitant chaque cellule divisée comme une nouvelle ligne\n",
    "\n",
    "    # Trouver le nombre maximum de sous-lignes dans les cellules pour garantir l'alignement\n",
    "    max_sublines_per_cell = max(max(len(cell) for cell in row) for row in rows)\n",
    "\n",
    "    # Créer une liste pour le nouveau DataFrame\n",
    "    new_rows = []\n",
    "\n",
    "    # Parcourir les lignes et ajuster le nombre de sous-lignes\n",
    "    for row in rows:\n",
    "        for i in range(max_sublines_per_cell):\n",
    "            # On crée une nouvelle ligne pour chaque \"sous-ligne\"\n",
    "            new_row = []\n",
    "            for cell in row:\n",
    "                if i < len(cell):\n",
    "                    new_row.append(cell[i])  # Prendre la sous-ligne correspondante\n",
    "                else:\n",
    "                    new_row.append('')  # Remplir par une chaîne vide si pas assez de sous-lignes\n",
    "            new_rows.append(new_row)\n",
    "\n",
    "    # Créer le DataFrame à partir des nouvelles lignes\n",
    "    df = pd.DataFrame(new_rows)\n",
    "\n",
    "    print(\"Tableau détecté et chargé dans un DataFrame avec saut de ligne pris en compte.\")\n",
    "    print(df)\n",
    "else:\n",
    "    print(\"Aucun tableau détecté.\")"
   ]
  },
  {
   "cell_type": "code",
   "execution_count": 55,
   "metadata": {},
   "outputs": [
    {
     "data": {
      "text/html": [
       "<div>\n",
       "<style scoped>\n",
       "    .dataframe tbody tr th:only-of-type {\n",
       "        vertical-align: middle;\n",
       "    }\n",
       "\n",
       "    .dataframe tbody tr th {\n",
       "        vertical-align: top;\n",
       "    }\n",
       "\n",
       "    .dataframe thead th {\n",
       "        text-align: right;\n",
       "    }\n",
       "</style>\n",
       "<table border=\"1\" class=\"dataframe\">\n",
       "  <thead>\n",
       "    <tr style=\"text-align: right;\">\n",
       "      <th></th>\n",
       "      <th>0</th>\n",
       "      <th>1</th>\n",
       "      <th>2</th>\n",
       "    </tr>\n",
       "  </thead>\n",
       "  <tbody>\n",
       "    <tr>\n",
       "      <th>0</th>\n",
       "      <td>Payé le 03/10/2024 par Chèque</td>\n",
       "      <td>TOTAL</td>\n",
       "      <td>97,50 €</td>\n",
       "    </tr>\n",
       "  </tbody>\n",
       "</table>\n",
       "</div>"
      ],
      "text/plain": [
       "                               0      1        2\n",
       "0  Payé le 03/10/2024 par Chèque  TOTAL  97,50 €"
      ]
     },
     "execution_count": 55,
     "metadata": {},
     "output_type": "execute_result"
    }
   ],
   "source": [
    "df"
   ]
  },
  {
   "cell_type": "markdown",
   "metadata": {},
   "source": [
    "---  \n",
    "## Essaie avec easyOCR et tabula"
   ]
  },
  {
   "cell_type": "code",
   "execution_count": 56,
   "metadata": {},
   "outputs": [],
   "source": [
    "import fitz, os \n",
    "from mylib import paths\n",
    "from typing import Tuple\n",
    "import shutil\n",
    "\n",
    "def pdf2img(pdfFile: str, pages: Tuple = None):\n",
    "    # On charge le document\n",
    "    pdf = fitz.open(pdfFile)\n",
    "    # On détermine la liste des fichiers générés\n",
    "    pngFiles = []\n",
    "    # Pour chaque page du pdf\n",
    "    pngPath = str(paths.rootPath_img) + str(paths.tmpDirImg) + os.path.basename(str(pdfFile).split('.')[0])\n",
    "    \n",
    "    try:\n",
    "        for pageId in range(pdf.page_count):\n",
    "            if str(pages) != str(None):\n",
    "                if str(pageId) not in str(pages):\n",
    "                    continue\n",
    "\n",
    "            # On récupère la page courante\n",
    "            page = pdf[pageId]\n",
    "            # On convertit la page courante\n",
    "            pageMatrix = fitz.Matrix(2, 2)\n",
    "            pagePix = page.get_pixmap(matrix=pageMatrix, alpha=False)\n",
    "            # On exporte la page générée\n",
    "\n",
    "            # Si le répertoire dédié au pdf n'existe pas encore, on le crée\n",
    "            if not os.path.exists(pngPath):\n",
    "                os.makedirs(pngPath)\n",
    "\n",
    "            pngFile = pngPath + \"_\" + f\"page{pageId+1}.png\"\n",
    "            pagePix.save(pngFile)\n",
    "            pngFiles.append(pngFile)\n",
    "\n",
    "        pdf.close()\n",
    "\n",
    "        # On retourne la liste des pngs générés\n",
    "        return pngFiles\n",
    "\n",
    "    finally:\n",
    "        # On supprime le répertoire et son contenu après le traitement\n",
    "        if os.path.exists(pngPath):\n",
    "            shutil.rmtree(pngPath)"
   ]
  },
  {
   "cell_type": "code",
   "execution_count": 57,
   "metadata": {},
   "outputs": [],
   "source": [
    "# import easyocr\n",
    "# from pdf2image import convert_from_path\n",
    "# import re\n",
    "# from mylib import functions\n",
    " \n",
    "# # Initialiser EasyOCR avec le support du français\n",
    "# reader = easyocr.Reader(['fr'], gpu=False)  # Si vous avez un GPU, vous pouvez mettre gpu=True\n",
    " \n",
    "# # Fonction pour convertir un PDF en images et extraire le texte avec EasyOCR\n",
    "# def pdf_to_text_with_easyocr(pdf_path):\n",
    "#     images = pdf2img(pdf_path)\n",
    "#     full_text = \"\"\n",
    "#     # Parcourir chaque page du PDF\n",
    "#     for img in images:\n",
    "#         # Extraire le texte avec EasyOCR\n",
    "#         result = reader.readtext(img, detail=0)  # detail=0 renvoie uniquement le texte\n",
    "#         full_text += \" \".join(result) + \"\\n\"\n",
    "#     return full_text\n",
    " \n",
    "# # Fonction pour extraire des désignations ou informations structurées\n",
    "# def extract_information(text):\n",
    "#     sentences = text.split('\\n')  # Diviser le texte en phrases par lignes\n",
    "#     relevant_sentences = []\n",
    "#     # Parcourir chaque phrase pour trouver celles qui sont pertinentes\n",
    "#     for sentence in sentences:\n",
    "#         # Utiliser des heuristiques pour détecter les phrases avec des désignations\n",
    "#         # Exemple : phrases contenant des noms propres ou des mentions numériques (âges, montants, etc.)\n",
    "#         if re.search(r'\\d{1,2}\\s?(ans|€|jours)', sentence) or re.search(r'\\bM\\.|Mme\\b', sentence):\n",
    "#             relevant_sentences.append(sentence)\n",
    "#     return relevant_sentences\n",
    "\n",
    " \n",
    "# # Extraire le texte du PDF avec EasyOCR\n",
    "# text = pdf_to_text_with_easyocr(pdf_file)\n",
    "\n",
    "# # Extraire les informations pertinentes\n",
    "# relevant_information = extract_information(text)\n",
    " \n",
    "# # Afficher les désignations détectées\n",
    "# if relevant_information:\n",
    "#     print(\"Informations pertinentes détectées :\")\n",
    "#     for info in relevant_information:\n",
    "#         print(info)\n",
    "# else:\n",
    "#     print(\"Aucune information pertinente détectée.\")"
   ]
  }
 ],
 "metadata": {
  "kernelspec": {
   "display_name": "Python 3",
   "language": "python",
   "name": "python3"
  },
  "language_info": {
   "codemirror_mode": {
    "name": "ipython",
    "version": 3
   },
   "file_extension": ".py",
   "mimetype": "text/x-python",
   "name": "python",
   "nbconvert_exporter": "python",
   "pygments_lexer": "ipython3",
   "version": "3.9.0"
  }
 },
 "nbformat": 4,
 "nbformat_minor": 2
}
