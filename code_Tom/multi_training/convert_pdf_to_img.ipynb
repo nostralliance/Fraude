{
 "cells": [
  {
   "cell_type": "code",
   "execution_count": 12,
   "metadata": {},
   "outputs": [
    {
     "name": "stdout",
     "output_type": "stream",
     "text": [
      "Note: you may need to restart the kernel to use updated packages.Collecting pdf2img\n",
      "  Downloading pdf2img-0.1.2.tar.gz (8.5 kB)\n",
      "Requirement already satisfied: pillow in c:\\users\\pierrontl\\appdata\\local\\programs\\python\\python39\\lib\\site-packages (from pdf2img) (10.3.0)\n",
      "Using legacy 'setup.py install' for pdf2img, since package 'wheel' is not installed.\n",
      "Installing collected packages: pdf2img\n",
      "    Running setup.py install for pdf2img: started\n",
      "    Running setup.py install for pdf2img: finished with status 'done'\n",
      "Successfully installed pdf2img-0.1.2\n",
      "\n"
     ]
    },
    {
     "name": "stderr",
     "output_type": "stream",
     "text": [
      "WARNING: You are using pip version 20.2.3; however, version 24.0 is available.\n",
      "You should consider upgrading via the 'c:\\Users\\pierrontl\\AppData\\Local\\Programs\\Python\\Python39\\python.exe -m pip install --upgrade pip' command.\n"
     ]
    }
   ],
   "source": [
    "%pip install pdf2img\n"
   ]
  },
  {
   "cell_type": "code",
   "execution_count": 18,
   "metadata": {},
   "outputs": [],
   "source": [
    "import os\n",
    "import fitz"
   ]
  },
  {
   "cell_type": "code",
   "execution_count": 19,
   "metadata": {},
   "outputs": [],
   "source": [
    "def pdf_to_images(input_folder, output_folder):\n",
    "    # Vérifier si le dossier de sortie existe, sinon le créer\n",
    "    if not os.path.exists(output_folder):\n",
    "        os.makedirs(output_folder)\n",
    "\n",
    "    # Boucler à travers tous les fichiers dans le dossier d'entrée\n",
    "    for root, dirs, files in os.walk(input_folder):\n",
    "        for file_name in files:\n",
    "            if file_name.endswith('.pdf'):\n",
    "                file_path = os.path.join(root, file_name)\n",
    "                doc = fitz.open(file_path)\n",
    "                # Boucler à travers toutes les pages du PDF\n",
    "                for page_num in range(len(doc)):\n",
    "                    page = doc.load_page(page_num)\n",
    "                    # Convertir la page en image (PNG)\n",
    "                    image = page.get_pixmap()\n",
    "                    image_path = os.path.join(output_folder, f'{file_name}_page_{page_num+1}.png')\n",
    "                    image.save(image_path)\n",
    "                doc.close()"
   ]
  },
  {
   "cell_type": "code",
   "execution_count": 20,
   "metadata": {},
   "outputs": [],
   "source": [
    "# Spécifier le dossier d'entrée contenant les PDF\n",
    "input_folder = r\"C:\\Users\\pierrontl\\OneDrive - GIE SIMA\\Documents\\GitHub\\Fraude\\code_Tom\\multi_training\\bdd_pdf\"\n",
    "# Spécifier le dossier de sortie pour les images converties\n",
    "output_folder = r\"C:\\Users\\pierrontl\\OneDrive - GIE SIMA\\Documents\\GitHub\\Fraude\\code_Tom\\multi_training\\bdd_image\"\n",
    "\n",
    "# Appeler la fonction pour convertir les PDF en images\n",
    "pdf_to_images(input_folder, output_folder)"
   ]
  }
 ],
 "metadata": {
  "kernelspec": {
   "display_name": "Python 3",
   "language": "python",
   "name": "python3"
  },
  "language_info": {
   "codemirror_mode": {
    "name": "ipython",
    "version": 3
   },
   "file_extension": ".py",
   "mimetype": "text/x-python",
   "name": "python",
   "nbconvert_exporter": "python",
   "pygments_lexer": "ipython3",
   "version": "3.9.0"
  }
 },
 "nbformat": 4,
 "nbformat_minor": 2
}
