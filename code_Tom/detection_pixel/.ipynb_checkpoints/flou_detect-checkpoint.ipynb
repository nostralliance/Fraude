{
 "cells": [
  {
   "cell_type": "code",
   "execution_count": 68,
   "id": "67fa8c15",
   "metadata": {},
   "outputs": [],
   "source": [
    "import numpy as np \n",
    "import pandas as pd \n",
    "import os \n",
    "import matplotlib.pyplot as plt \n",
    "import cv2\n",
    "import sklearn\n",
    "import seaborn as sb \n",
    "from skimage.color import rgb2gray\n",
    "from skimage.filters import laplace, sobel, roberts\n",
    "from sklearn import svm\n",
    "from sklearn.model_selection import train_test_split\n",
    "from sklearn.metrics import accuracy_score, confusion_matrix, f1_score, classification_report\n",
    "import seaborn as sns\n",
    "from sklearn.model_selection import train_test_split, GridSearchCV\n",
    "import warnings\n",
    "import pickle"
   ]
  },
  {
   "cell_type": "code",
   "execution_count": 69,
   "id": "b315e28d",
   "metadata": {},
   "outputs": [],
   "source": [
    "path_img_blur = \"data_facture/blur\"\n",
    "path_img_sharp = \"data_facture/sharp\""
   ]
  },
  {
   "cell_type": "code",
   "execution_count": 70,
   "id": "18b95f73",
   "metadata": {},
   "outputs": [],
   "source": [
    "img_blur = os.listdir(path_img_blur)\n",
    "img_sharp = os.listdir(path_img_sharp)"
   ]
  },
  {
   "cell_type": "code",
   "execution_count": 71,
   "id": "ea470d83",
   "metadata": {},
   "outputs": [],
   "source": [
    "def get_data(path, images):\n",
    "    features = []\n",
    "    for img in images:\n",
    "        feature = []\n",
    "        image_gray = cv2.imread(os.path.join(path, img), 0)\n",
    "            #faire recherche sur les filtres \n",
    "        if image_gray is not None:\n",
    "            lap_feat = laplace(image_gray)\n",
    "            sob_feat = sobel(image_gray)\n",
    "            rob_feat = roberts(image_gray)\n",
    "\n",
    "            # Vérifiez si les fonctionnalités ne sont pas None avant d'extraire les statistiques\n",
    "            if lap_feat is not None and sob_feat is not None and rob_feat is not None:\n",
    "                feature.extend([img, lap_feat.mean(), lap_feat.var(), np.amax(lap_feat),\n",
    "                                sob_feat.mean(), sob_feat.var(), np.max(sob_feat),\n",
    "                                rob_feat.mean(), rob_feat.var(), np.max(rob_feat)])\n",
    "                \n",
    "                features.append(feature)\n",
    "\n",
    "    return features"
   ]
  },
  {
   "cell_type": "code",
   "execution_count": 72,
   "id": "d6d5e74a",
   "metadata": {},
   "outputs": [],
   "source": [
    "sharp_feature = get_data(path_img_sharp, img_sharp)\n",
    "blur_feature = get_data(path_img_blur, img_blur)"
   ]
  },
  {
   "cell_type": "code",
   "execution_count": 73,
   "id": "f3a2113d",
   "metadata": {},
   "outputs": [],
   "source": [
    "sharp_feature = get_data(path_img_sharp, img_sharp)\n",
    "blur_feature = get_data(path_img_blur, img_blur)\n",
    "# faire recherche sur pourquoi utiliser moyenne ... \n",
    "sharp_df = pd.DataFrame(sharp_feature, columns=['Image', 'Laplace_Mean', 'Laplace_Var', 'Laplace_Max',\n",
    "                                                'Sobel_Mean', 'Sobel_Var', 'Sobel_Max',\n",
    "                                                'Roberts_Mean', 'Roberts_Var', 'Roberts_Max'])\n",
    "\n",
    "blur_df = pd.DataFrame(blur_feature, columns=['Image', 'Laplace_Mean', 'Laplace_Var', 'Laplace_Max',\n",
    "                                              'Sobel_Mean', 'Sobel_Var', 'Sobel_Max',\n",
    "                                              'Roberts_Mean', 'Roberts_Var', 'Roberts_Max'])\n",
    "sharp_df.drop('Image',axis=1,inplace=True)\n",
    "blur_df.drop('Image',axis=1,inplace=True)"
   ]
  },
  {
   "cell_type": "code",
   "execution_count": 74,
   "id": "ae0e6293",
   "metadata": {},
   "outputs": [
    {
     "data": {
      "text/html": [
       "<div>\n",
       "<style scoped>\n",
       "    .dataframe tbody tr th:only-of-type {\n",
       "        vertical-align: middle;\n",
       "    }\n",
       "\n",
       "    .dataframe tbody tr th {\n",
       "        vertical-align: top;\n",
       "    }\n",
       "\n",
       "    .dataframe thead th {\n",
       "        text-align: right;\n",
       "    }\n",
       "</style>\n",
       "<table border=\"1\" class=\"dataframe\">\n",
       "  <thead>\n",
       "    <tr style=\"text-align: right;\">\n",
       "      <th></th>\n",
       "      <th>Laplace_Mean</th>\n",
       "      <th>Laplace_Var</th>\n",
       "      <th>Laplace_Max</th>\n",
       "      <th>Sobel_Mean</th>\n",
       "      <th>Sobel_Var</th>\n",
       "      <th>Sobel_Max</th>\n",
       "      <th>Roberts_Mean</th>\n",
       "      <th>Roberts_Var</th>\n",
       "      <th>Roberts_Max</th>\n",
       "    </tr>\n",
       "  </thead>\n",
       "  <tbody>\n",
       "    <tr>\n",
       "      <th>0</th>\n",
       "      <td>3.301811e-18</td>\n",
       "      <td>0.012331</td>\n",
       "      <td>1.733333</td>\n",
       "      <td>0.028133</td>\n",
       "      <td>0.006483</td>\n",
       "      <td>0.750000</td>\n",
       "      <td>0.025615</td>\n",
       "      <td>0.005579</td>\n",
       "      <td>1.000000</td>\n",
       "    </tr>\n",
       "    <tr>\n",
       "      <th>1</th>\n",
       "      <td>-6.081152e-19</td>\n",
       "      <td>0.049560</td>\n",
       "      <td>2.588235</td>\n",
       "      <td>0.043042</td>\n",
       "      <td>0.019390</td>\n",
       "      <td>0.787177</td>\n",
       "      <td>0.036887</td>\n",
       "      <td>0.018509</td>\n",
       "      <td>0.996078</td>\n",
       "    </tr>\n",
       "    <tr>\n",
       "      <th>2</th>\n",
       "      <td>-4.625883e-20</td>\n",
       "      <td>0.019012</td>\n",
       "      <td>2.858824</td>\n",
       "      <td>0.018824</td>\n",
       "      <td>0.008841</td>\n",
       "      <td>0.788399</td>\n",
       "      <td>0.015622</td>\n",
       "      <td>0.008009</td>\n",
       "      <td>0.996078</td>\n",
       "    </tr>\n",
       "    <tr>\n",
       "      <th>3</th>\n",
       "      <td>-4.557227e-19</td>\n",
       "      <td>0.054482</td>\n",
       "      <td>3.713725</td>\n",
       "      <td>0.046433</td>\n",
       "      <td>0.019635</td>\n",
       "      <td>0.785933</td>\n",
       "      <td>0.040780</td>\n",
       "      <td>0.019448</td>\n",
       "      <td>0.996078</td>\n",
       "    </tr>\n",
       "    <tr>\n",
       "      <th>4</th>\n",
       "      <td>2.086787e-20</td>\n",
       "      <td>0.012395</td>\n",
       "      <td>2.313725</td>\n",
       "      <td>0.007584</td>\n",
       "      <td>0.003942</td>\n",
       "      <td>0.763371</td>\n",
       "      <td>0.006820</td>\n",
       "      <td>0.004094</td>\n",
       "      <td>1.000000</td>\n",
       "    </tr>\n",
       "  </tbody>\n",
       "</table>\n",
       "</div>"
      ],
      "text/plain": [
       "   Laplace_Mean  Laplace_Var  Laplace_Max  Sobel_Mean  Sobel_Var  Sobel_Max  \\\n",
       "0  3.301811e-18     0.012331     1.733333    0.028133   0.006483   0.750000   \n",
       "1 -6.081152e-19     0.049560     2.588235    0.043042   0.019390   0.787177   \n",
       "2 -4.625883e-20     0.019012     2.858824    0.018824   0.008841   0.788399   \n",
       "3 -4.557227e-19     0.054482     3.713725    0.046433   0.019635   0.785933   \n",
       "4  2.086787e-20     0.012395     2.313725    0.007584   0.003942   0.763371   \n",
       "\n",
       "   Roberts_Mean  Roberts_Var  Roberts_Max  \n",
       "0      0.025615     0.005579     1.000000  \n",
       "1      0.036887     0.018509     0.996078  \n",
       "2      0.015622     0.008009     0.996078  \n",
       "3      0.040780     0.019448     0.996078  \n",
       "4      0.006820     0.004094     1.000000  "
      ]
     },
     "execution_count": 74,
     "metadata": {},
     "output_type": "execute_result"
    }
   ],
   "source": [
    "sharp_df.head()"
   ]
  },
  {
   "cell_type": "code",
   "execution_count": 75,
   "id": "379adc5a",
   "metadata": {},
   "outputs": [
    {
     "data": {
      "text/html": [
       "<div>\n",
       "<style scoped>\n",
       "    .dataframe tbody tr th:only-of-type {\n",
       "        vertical-align: middle;\n",
       "    }\n",
       "\n",
       "    .dataframe tbody tr th {\n",
       "        vertical-align: top;\n",
       "    }\n",
       "\n",
       "    .dataframe thead th {\n",
       "        text-align: right;\n",
       "    }\n",
       "</style>\n",
       "<table border=\"1\" class=\"dataframe\">\n",
       "  <thead>\n",
       "    <tr style=\"text-align: right;\">\n",
       "      <th></th>\n",
       "      <th>Laplace_Mean</th>\n",
       "      <th>Laplace_Var</th>\n",
       "      <th>Laplace_Max</th>\n",
       "      <th>Sobel_Mean</th>\n",
       "      <th>Sobel_Var</th>\n",
       "      <th>Sobel_Max</th>\n",
       "      <th>Roberts_Mean</th>\n",
       "      <th>Roberts_Var</th>\n",
       "      <th>Roberts_Max</th>\n",
       "    </tr>\n",
       "  </thead>\n",
       "  <tbody>\n",
       "    <tr>\n",
       "      <th>0</th>\n",
       "      <td>-1.214974e-19</td>\n",
       "      <td>0.018615</td>\n",
       "      <td>2.337255</td>\n",
       "      <td>0.011496</td>\n",
       "      <td>0.005172</td>\n",
       "      <td>0.762120</td>\n",
       "      <td>0.010869</td>\n",
       "      <td>0.005720</td>\n",
       "      <td>1.000000</td>\n",
       "    </tr>\n",
       "    <tr>\n",
       "      <th>1</th>\n",
       "      <td>-8.222987e-18</td>\n",
       "      <td>0.006644</td>\n",
       "      <td>1.250980</td>\n",
       "      <td>0.015713</td>\n",
       "      <td>0.002899</td>\n",
       "      <td>0.627663</td>\n",
       "      <td>0.014490</td>\n",
       "      <td>0.002702</td>\n",
       "      <td>0.690241</td>\n",
       "    </tr>\n",
       "    <tr>\n",
       "      <th>2</th>\n",
       "      <td>5.573505e-18</td>\n",
       "      <td>0.019396</td>\n",
       "      <td>1.196078</td>\n",
       "      <td>0.035463</td>\n",
       "      <td>0.006478</td>\n",
       "      <td>0.506760</td>\n",
       "      <td>0.033275</td>\n",
       "      <td>0.006530</td>\n",
       "      <td>0.566670</td>\n",
       "    </tr>\n",
       "    <tr>\n",
       "      <th>3</th>\n",
       "      <td>4.877195e-19</td>\n",
       "      <td>0.089310</td>\n",
       "      <td>2.509804</td>\n",
       "      <td>0.051412</td>\n",
       "      <td>0.022696</td>\n",
       "      <td>0.766830</td>\n",
       "      <td>0.047746</td>\n",
       "      <td>0.026068</td>\n",
       "      <td>1.000000</td>\n",
       "    </tr>\n",
       "    <tr>\n",
       "      <th>4</th>\n",
       "      <td>-7.431282e-20</td>\n",
       "      <td>0.020807</td>\n",
       "      <td>2.376471</td>\n",
       "      <td>0.015435</td>\n",
       "      <td>0.007412</td>\n",
       "      <td>0.765829</td>\n",
       "      <td>0.013418</td>\n",
       "      <td>0.007411</td>\n",
       "      <td>1.000000</td>\n",
       "    </tr>\n",
       "  </tbody>\n",
       "</table>\n",
       "</div>"
      ],
      "text/plain": [
       "   Laplace_Mean  Laplace_Var  Laplace_Max  Sobel_Mean  Sobel_Var  Sobel_Max  \\\n",
       "0 -1.214974e-19     0.018615     2.337255    0.011496   0.005172   0.762120   \n",
       "1 -8.222987e-18     0.006644     1.250980    0.015713   0.002899   0.627663   \n",
       "2  5.573505e-18     0.019396     1.196078    0.035463   0.006478   0.506760   \n",
       "3  4.877195e-19     0.089310     2.509804    0.051412   0.022696   0.766830   \n",
       "4 -7.431282e-20     0.020807     2.376471    0.015435   0.007412   0.765829   \n",
       "\n",
       "   Roberts_Mean  Roberts_Var  Roberts_Max  \n",
       "0      0.010869     0.005720     1.000000  \n",
       "1      0.014490     0.002702     0.690241  \n",
       "2      0.033275     0.006530     0.566670  \n",
       "3      0.047746     0.026068     1.000000  \n",
       "4      0.013418     0.007411     1.000000  "
      ]
     },
     "execution_count": 75,
     "metadata": {},
     "output_type": "execute_result"
    }
   ],
   "source": [
    "blur_df.head()"
   ]
  },
  {
   "cell_type": "code",
   "execution_count": 76,
   "id": "db01199a",
   "metadata": {},
   "outputs": [
    {
     "data": {
      "text/plain": [
       "(652, 9)"
      ]
     },
     "execution_count": 76,
     "metadata": {},
     "output_type": "execute_result"
    }
   ],
   "source": [
    "blur_df.shape"
   ]
  },
  {
   "cell_type": "code",
   "execution_count": 77,
   "id": "5f527cf4",
   "metadata": {},
   "outputs": [
    {
     "data": {
      "text/plain": [
       "(652, 9)"
      ]
     },
     "execution_count": 77,
     "metadata": {},
     "output_type": "execute_result"
    }
   ],
   "source": [
    "sharp_df.shape"
   ]
  },
  {
   "cell_type": "code",
   "execution_count": 78,
   "id": "662ec381",
   "metadata": {},
   "outputs": [],
   "source": [
    "images=pd.concat([blur_df, sharp_df])\n",
    "\n",
    "all_features = np.array(images)\n",
    "y_f = np.concatenate((np.ones((sharp_df.shape[0], )), np.zeros((blur_df.shape[0], ))), axis=0)\n",
    "\n",
    "x_train,x_test,y_train,y_test = train_test_split(all_features,y_f,test_size=0.20,stratify=y_f)"
   ]
  },
  {
   "cell_type": "code",
   "execution_count": 79,
   "id": "daf21f56",
   "metadata": {},
   "outputs": [
    {
     "data": {
      "text/plain": [
       "(1043, 9)"
      ]
     },
     "execution_count": 79,
     "metadata": {},
     "output_type": "execute_result"
    }
   ],
   "source": [
    "x_train.shape"
   ]
  },
  {
   "cell_type": "code",
   "execution_count": 80,
   "id": "52c8fed3",
   "metadata": {},
   "outputs": [],
   "source": [
    "param_grid = {'C': [1,10,100,1000], 'kernel': ['linear', 'rbf', 'poly', 'sigmoid']}"
   ]
  },
  {
   "cell_type": "code",
   "execution_count": 81,
   "id": "7105392e",
   "metadata": {},
   "outputs": [
    {
     "name": "stdout",
     "output_type": "stream",
     "text": [
      "Best Parameters: {'C': 10, 'kernel': 'sigmoid'}\n"
     ]
    }
   ],
   "source": [
    "svm_model = svm.SVC()\n",
    "\n",
    "# Create GridSearchCV\n",
    "grid_search = GridSearchCV(svm_model, param_grid, scoring='accuracy', cv=5)\n",
    "grid_search.fit(x_train, y_train)\n",
    "\n",
    "\n",
    "# Get the best parameters\n",
    "best_params = grid_search.best_params_\n",
    "print(\"Best Parameters:\", best_params)\n",
    "\n",
    "# Use the best parameters to create the final SVM model\n",
    "final_svm_model = svm.SVC(**best_params)\n",
    "final_svm_model.fit(x_train, y_train)\n",
    "\n",
    "file_save = \"model_vgg/final_svm.pkl\"\n",
    "with open(file_save, 'wb') as file:\n",
    "    pickle.dump(final_svm_model, file)\n"
   ]
  },
  {
   "cell_type": "code",
   "execution_count": 82,
   "id": "438e5c68",
   "metadata": {
    "scrolled": true
   },
   "outputs": [
    {
     "name": "stdout",
     "output_type": "stream",
     "text": [
      "Accuracy: 0.5243619489559165\n",
      "Confusion matrix:\n",
      " [[113 103]\n",
      " [102 113]]\n",
      "1043\n",
      "261\n",
      "1043\n",
      "261\n"
     ]
    },
    {
     "ename": "ValueError",
     "evalue": "Found input variables with inconsistent numbers of samples: [261, 431]",
     "output_type": "error",
     "traceback": [
      "\u001b[1;31m---------------------------------------------------------------------------\u001b[0m",
      "\u001b[1;31mValueError\u001b[0m                                Traceback (most recent call last)",
      "\u001b[1;32m~\\AppData\\Local\\Temp\\ipykernel_18360\\1224168492.py\u001b[0m in \u001b[0;36m<module>\u001b[1;34m\u001b[0m\n\u001b[0;32m      6\u001b[0m \u001b[0mprint\u001b[0m\u001b[1;33m(\u001b[0m\u001b[0mlen\u001b[0m\u001b[1;33m(\u001b[0m\u001b[0my_train\u001b[0m\u001b[1;33m)\u001b[0m\u001b[1;33m)\u001b[0m\u001b[1;33m\u001b[0m\u001b[1;33m\u001b[0m\u001b[0m\n\u001b[0;32m      7\u001b[0m \u001b[0mprint\u001b[0m\u001b[1;33m(\u001b[0m\u001b[0mlen\u001b[0m\u001b[1;33m(\u001b[0m\u001b[0my_test\u001b[0m\u001b[1;33m)\u001b[0m\u001b[1;33m)\u001b[0m\u001b[1;33m\u001b[0m\u001b[1;33m\u001b[0m\u001b[0m\n\u001b[1;32m----> 8\u001b[1;33m \u001b[0mprint\u001b[0m\u001b[1;33m(\u001b[0m\u001b[1;34m'F1_score:'\u001b[0m\u001b[1;33m,\u001b[0m \u001b[0mf1_score\u001b[0m\u001b[1;33m(\u001b[0m\u001b[0my_test\u001b[0m\u001b[1;33m,\u001b[0m \u001b[0mpred\u001b[0m\u001b[1;33m)\u001b[0m\u001b[1;33m)\u001b[0m\u001b[1;33m\u001b[0m\u001b[1;33m\u001b[0m\u001b[0m\n\u001b[0m\u001b[0;32m      9\u001b[0m \u001b[0mprint\u001b[0m\u001b[1;33m(\u001b[0m\u001b[1;34m'Classification_report:\\n'\u001b[0m\u001b[1;33m,\u001b[0m \u001b[0mclassification_report\u001b[0m\u001b[1;33m(\u001b[0m\u001b[0my_test\u001b[0m\u001b[1;33m,\u001b[0m \u001b[0mpred\u001b[0m\u001b[1;33m)\u001b[0m\u001b[1;33m)\u001b[0m\u001b[1;33m\u001b[0m\u001b[1;33m\u001b[0m\u001b[0m\n",
      "\u001b[1;32m~\\anaconda3\\lib\\site-packages\\sklearn\\metrics\\_classification.py\u001b[0m in \u001b[0;36mf1_score\u001b[1;34m(y_true, y_pred, labels, pos_label, average, sample_weight, zero_division)\u001b[0m\n\u001b[0;32m   1121\u001b[0m     \u001b[0mmodified\u001b[0m \u001b[1;32mwith\u001b[0m\u001b[0;31m \u001b[0m\u001b[0;31m`\u001b[0m\u001b[0;31m`\u001b[0m\u001b[0mzero_division\u001b[0m\u001b[0;31m`\u001b[0m\u001b[0;31m`\u001b[0m\u001b[1;33m.\u001b[0m\u001b[1;33m\u001b[0m\u001b[1;33m\u001b[0m\u001b[0m\n\u001b[0;32m   1122\u001b[0m     \"\"\"\n\u001b[1;32m-> 1123\u001b[1;33m     return fbeta_score(\n\u001b[0m\u001b[0;32m   1124\u001b[0m         \u001b[0my_true\u001b[0m\u001b[1;33m,\u001b[0m\u001b[1;33m\u001b[0m\u001b[1;33m\u001b[0m\u001b[0m\n\u001b[0;32m   1125\u001b[0m         \u001b[0my_pred\u001b[0m\u001b[1;33m,\u001b[0m\u001b[1;33m\u001b[0m\u001b[1;33m\u001b[0m\u001b[0m\n",
      "\u001b[1;32m~\\anaconda3\\lib\\site-packages\\sklearn\\metrics\\_classification.py\u001b[0m in \u001b[0;36mfbeta_score\u001b[1;34m(y_true, y_pred, beta, labels, pos_label, average, sample_weight, zero_division)\u001b[0m\n\u001b[0;32m   1259\u001b[0m     \"\"\"\n\u001b[0;32m   1260\u001b[0m \u001b[1;33m\u001b[0m\u001b[0m\n\u001b[1;32m-> 1261\u001b[1;33m     _, _, f, _ = precision_recall_fscore_support(\n\u001b[0m\u001b[0;32m   1262\u001b[0m         \u001b[0my_true\u001b[0m\u001b[1;33m,\u001b[0m\u001b[1;33m\u001b[0m\u001b[1;33m\u001b[0m\u001b[0m\n\u001b[0;32m   1263\u001b[0m         \u001b[0my_pred\u001b[0m\u001b[1;33m,\u001b[0m\u001b[1;33m\u001b[0m\u001b[1;33m\u001b[0m\u001b[0m\n",
      "\u001b[1;32m~\\anaconda3\\lib\\site-packages\\sklearn\\metrics\\_classification.py\u001b[0m in \u001b[0;36mprecision_recall_fscore_support\u001b[1;34m(y_true, y_pred, beta, labels, pos_label, average, warn_for, sample_weight, zero_division)\u001b[0m\n\u001b[0;32m   1542\u001b[0m     \u001b[1;32mif\u001b[0m \u001b[0mbeta\u001b[0m \u001b[1;33m<\u001b[0m \u001b[1;36m0\u001b[0m\u001b[1;33m:\u001b[0m\u001b[1;33m\u001b[0m\u001b[1;33m\u001b[0m\u001b[0m\n\u001b[0;32m   1543\u001b[0m         \u001b[1;32mraise\u001b[0m \u001b[0mValueError\u001b[0m\u001b[1;33m(\u001b[0m\u001b[1;34m\"beta should be >=0 in the F-beta score\"\u001b[0m\u001b[1;33m)\u001b[0m\u001b[1;33m\u001b[0m\u001b[1;33m\u001b[0m\u001b[0m\n\u001b[1;32m-> 1544\u001b[1;33m     \u001b[0mlabels\u001b[0m \u001b[1;33m=\u001b[0m \u001b[0m_check_set_wise_labels\u001b[0m\u001b[1;33m(\u001b[0m\u001b[0my_true\u001b[0m\u001b[1;33m,\u001b[0m \u001b[0my_pred\u001b[0m\u001b[1;33m,\u001b[0m \u001b[0maverage\u001b[0m\u001b[1;33m,\u001b[0m \u001b[0mlabels\u001b[0m\u001b[1;33m,\u001b[0m \u001b[0mpos_label\u001b[0m\u001b[1;33m)\u001b[0m\u001b[1;33m\u001b[0m\u001b[1;33m\u001b[0m\u001b[0m\n\u001b[0m\u001b[0;32m   1545\u001b[0m \u001b[1;33m\u001b[0m\u001b[0m\n\u001b[0;32m   1546\u001b[0m     \u001b[1;31m# Calculate tp_sum, pred_sum, true_sum ###\u001b[0m\u001b[1;33m\u001b[0m\u001b[1;33m\u001b[0m\u001b[0m\n",
      "\u001b[1;32m~\\anaconda3\\lib\\site-packages\\sklearn\\metrics\\_classification.py\u001b[0m in \u001b[0;36m_check_set_wise_labels\u001b[1;34m(y_true, y_pred, average, labels, pos_label)\u001b[0m\n\u001b[0;32m   1346\u001b[0m         \u001b[1;32mraise\u001b[0m \u001b[0mValueError\u001b[0m\u001b[1;33m(\u001b[0m\u001b[1;34m\"average has to be one of \"\u001b[0m \u001b[1;33m+\u001b[0m \u001b[0mstr\u001b[0m\u001b[1;33m(\u001b[0m\u001b[0maverage_options\u001b[0m\u001b[1;33m)\u001b[0m\u001b[1;33m)\u001b[0m\u001b[1;33m\u001b[0m\u001b[1;33m\u001b[0m\u001b[0m\n\u001b[0;32m   1347\u001b[0m \u001b[1;33m\u001b[0m\u001b[0m\n\u001b[1;32m-> 1348\u001b[1;33m     \u001b[0my_type\u001b[0m\u001b[1;33m,\u001b[0m \u001b[0my_true\u001b[0m\u001b[1;33m,\u001b[0m \u001b[0my_pred\u001b[0m \u001b[1;33m=\u001b[0m \u001b[0m_check_targets\u001b[0m\u001b[1;33m(\u001b[0m\u001b[0my_true\u001b[0m\u001b[1;33m,\u001b[0m \u001b[0my_pred\u001b[0m\u001b[1;33m)\u001b[0m\u001b[1;33m\u001b[0m\u001b[1;33m\u001b[0m\u001b[0m\n\u001b[0m\u001b[0;32m   1349\u001b[0m     \u001b[1;31m# Convert to Python primitive type to avoid NumPy type / Python str\u001b[0m\u001b[1;33m\u001b[0m\u001b[1;33m\u001b[0m\u001b[0m\n\u001b[0;32m   1350\u001b[0m     \u001b[1;31m# comparison. See https://github.com/numpy/numpy/issues/6784\u001b[0m\u001b[1;33m\u001b[0m\u001b[1;33m\u001b[0m\u001b[0m\n",
      "\u001b[1;32m~\\anaconda3\\lib\\site-packages\\sklearn\\metrics\\_classification.py\u001b[0m in \u001b[0;36m_check_targets\u001b[1;34m(y_true, y_pred)\u001b[0m\n\u001b[0;32m     82\u001b[0m     \u001b[0my_pred\u001b[0m \u001b[1;33m:\u001b[0m \u001b[0marray\u001b[0m \u001b[1;32mor\u001b[0m \u001b[0mindicator\u001b[0m \u001b[0mmatrix\u001b[0m\u001b[1;33m\u001b[0m\u001b[1;33m\u001b[0m\u001b[0m\n\u001b[0;32m     83\u001b[0m     \"\"\"\n\u001b[1;32m---> 84\u001b[1;33m     \u001b[0mcheck_consistent_length\u001b[0m\u001b[1;33m(\u001b[0m\u001b[0my_true\u001b[0m\u001b[1;33m,\u001b[0m \u001b[0my_pred\u001b[0m\u001b[1;33m)\u001b[0m\u001b[1;33m\u001b[0m\u001b[1;33m\u001b[0m\u001b[0m\n\u001b[0m\u001b[0;32m     85\u001b[0m     \u001b[0mtype_true\u001b[0m \u001b[1;33m=\u001b[0m \u001b[0mtype_of_target\u001b[0m\u001b[1;33m(\u001b[0m\u001b[0my_true\u001b[0m\u001b[1;33m)\u001b[0m\u001b[1;33m\u001b[0m\u001b[1;33m\u001b[0m\u001b[0m\n\u001b[0;32m     86\u001b[0m     \u001b[0mtype_pred\u001b[0m \u001b[1;33m=\u001b[0m \u001b[0mtype_of_target\u001b[0m\u001b[1;33m(\u001b[0m\u001b[0my_pred\u001b[0m\u001b[1;33m)\u001b[0m\u001b[1;33m\u001b[0m\u001b[1;33m\u001b[0m\u001b[0m\n",
      "\u001b[1;32m~\\anaconda3\\lib\\site-packages\\sklearn\\utils\\validation.py\u001b[0m in \u001b[0;36mcheck_consistent_length\u001b[1;34m(*arrays)\u001b[0m\n\u001b[0;32m    330\u001b[0m     \u001b[0muniques\u001b[0m \u001b[1;33m=\u001b[0m \u001b[0mnp\u001b[0m\u001b[1;33m.\u001b[0m\u001b[0munique\u001b[0m\u001b[1;33m(\u001b[0m\u001b[0mlengths\u001b[0m\u001b[1;33m)\u001b[0m\u001b[1;33m\u001b[0m\u001b[1;33m\u001b[0m\u001b[0m\n\u001b[0;32m    331\u001b[0m     \u001b[1;32mif\u001b[0m \u001b[0mlen\u001b[0m\u001b[1;33m(\u001b[0m\u001b[0muniques\u001b[0m\u001b[1;33m)\u001b[0m \u001b[1;33m>\u001b[0m \u001b[1;36m1\u001b[0m\u001b[1;33m:\u001b[0m\u001b[1;33m\u001b[0m\u001b[1;33m\u001b[0m\u001b[0m\n\u001b[1;32m--> 332\u001b[1;33m         raise ValueError(\n\u001b[0m\u001b[0;32m    333\u001b[0m             \u001b[1;34m\"Found input variables with inconsistent numbers of samples: %r\"\u001b[0m\u001b[1;33m\u001b[0m\u001b[1;33m\u001b[0m\u001b[0m\n\u001b[0;32m    334\u001b[0m             \u001b[1;33m%\u001b[0m \u001b[1;33m[\u001b[0m\u001b[0mint\u001b[0m\u001b[1;33m(\u001b[0m\u001b[0ml\u001b[0m\u001b[1;33m)\u001b[0m \u001b[1;32mfor\u001b[0m \u001b[0ml\u001b[0m \u001b[1;32min\u001b[0m \u001b[0mlengths\u001b[0m\u001b[1;33m]\u001b[0m\u001b[1;33m\u001b[0m\u001b[1;33m\u001b[0m\u001b[0m\n",
      "\u001b[1;31mValueError\u001b[0m: Found input variables with inconsistent numbers of samples: [261, 431]"
     ]
    }
   ],
   "source": [
    "pred = final_svm_model.predict(x_valid)\n",
    "print('Accuracy:', accuracy_score(y_valid, pred))\n",
    "print('Confusion matrix:\\n', confusion_matrix(y_test, pred))\n",
    "print(len(x_train))\n",
    "print(len(x_test))\n",
    "print(len(y_train))\n",
    "print(len(y_test))\n",
    "print('F1_score:', f1_score(y_test, pred))\n",
    "print('Classification_report:\\n', classification_report(y_test, pred))"
   ]
  },
  {
   "cell_type": "code",
   "execution_count": null,
   "id": "b5610fb9",
   "metadata": {},
   "outputs": [],
   "source": []
  }
 ],
 "metadata": {
  "kernelspec": {
   "display_name": "Python 3 (ipykernel)",
   "language": "python",
   "name": "python3"
  },
  "language_info": {
   "codemirror_mode": {
    "name": "ipython",
    "version": 3
   },
   "file_extension": ".py",
   "mimetype": "text/x-python",
   "name": "python",
   "nbconvert_exporter": "python",
   "pygments_lexer": "ipython3",
   "version": "3.9.13"
  }
 },
 "nbformat": 4,
 "nbformat_minor": 5
}
