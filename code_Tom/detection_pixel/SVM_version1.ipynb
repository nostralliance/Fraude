{
 "cells": [
  {
   "cell_type": "code",
   "execution_count": null,
   "id": "898396b9",
   "metadata": {},
   "outputs": [],
   "source": [
    "from sklearn import svm\n",
    "from sklearn.decomposition import PCA\n",
    "from skimage.transform import resize\n",
    "from skimage.io import imread\n",
    "import pathlib\n",
    "\n",
    "#import matplotlib.pyplot as plt\n",
    "import numpy as np\n",
    "import pandas as pd\n",
    "from sklearn.model_selection import train_test_split,GridSearchCV\n",
    "import datetime\n",
    "from sklearn.metrics import confusion_matrix,accuracy_score, classification_report\n",
    "from PIL import Image\n",
    "from sklearn.decomposition import PCA\n",
    "from skimage.transform import resize\n",
    "from skimage.io import imread\n",
    "from sklearn import metrics"
   ]
  },
  {
   "cell_type": "code",
   "execution_count": null,
   "id": "1752845c",
   "metadata": {},
   "outputs": [],
   "source": [
    "IMAGE_WIDTH = 128\n",
    "IMAGE_HEIGHT = IMAGE_WIDTH\n",
    "IMAGE_DEPTH = 3\n",
    "\n",
    "# allow to build our image database\n",
    "def build_image_database(path, target, encoding='UTF-8'):\n",
    "    \"\"\"Build a pandas dataframe with target class and access path to images.\n",
    "\n",
    "    Parameters\n",
    "    - - - - - -\n",
    "    path (Path): path patern to read csv file containing images information.\n",
    "    target (str): name of the target column.\n",
    "\n",
    "    Returns\n",
    "    - - - - -\n",
    "    A pandas dataframe, including target class and path to image.\n",
    "    \"\"\"\n",
    "\n",
    "\n",
    "    _df = pd.read_csv(path, sep=';', dtype={'all': str}, encoding=encoding)\n",
    "\n",
    "\n",
    "    _df['path'] = _df['id'].apply(lambda x:  pathlib.Path(r'data_facture/all_facture') / (str(x) + '.png'))\n",
    "\n",
    "    return _df"
   ]
  },
  {
   "cell_type": "code",
   "execution_count": null,
   "id": "48bf4377",
   "metadata": {},
   "outputs": [],
   "source": [
    "def build_x_svm_and_y_svm(df:pd.DataFrame,target:str,images:str,stratify=None):\n",
    "  \"\"\"Build x tensor and y tensor for model fitting\n",
    "\n",
    "  Parameters\n",
    "  --------------\n",
    "  df(pd.DataFrame):dataframe contanining images and target\n",
    "  target(str):name of target column\n",
    "  images(str): name of images column\n",
    "\n",
    "  Returns\n",
    "  ---------\n",
    "  x(np.array):tensor of x values\n",
    "  y(np.array):name of y values\n",
    "  \"\"\"\n",
    "  x = pd.DataFrame(np.array([img for img in df[images]]))\n",
    "  y = df[target].astype('category').cat.codes\n",
    "\n",
    "\n",
    "  return x, y"
   ]
  },
  {
   "cell_type": "code",
   "execution_count": null,
   "id": "5c984d8b",
   "metadata": {},
   "outputs": [],
   "source": [
    "def load_resize(path,height,width):\n",
    "  \"\"\"Load an image and resize it to the target size\n",
    "    Parameters\n",
    "    --------\n",
    "    path(Path): access path to image file\n",
    "    height(int): resize image to this height\n",
    "    width(int):resize image to this width\n",
    "\n",
    "    Returns\n",
    "    ----------\n",
    "    nb.array containing resize\n",
    "\n",
    "\n",
    "  \"\"\"\n",
    "  #np.array(Image.open(path).convert('RGB').resize((width, height))), (resize(imread(path)/255,(width,height))).flatten()\n",
    "  return (resize(imread(path)/255,(width,height))).flatten()"
   ]
  },
  {
   "cell_type": "code",
   "execution_count": null,
   "id": "9795ff23",
   "metadata": {},
   "outputs": [],
   "source": [
    "# Load train & test dataset\n",
    "\n",
    "train_df= build_image_database('data_facture/data_train.csv','label')\n",
    "test_df= build_image_database('data_facture/data_test1.csv','label')\n",
    "\n",
    "train_df['resized_image']=train_df.apply(lambda r:load_resize(r['path'],IMAGE_HEIGHT,IMAGE_WIDTH),axis=1)\n",
    "\n",
    "test_df['resized_image']=test_df.apply(lambda r:load_resize(r['path'],IMAGE_HEIGHT,IMAGE_WIDTH),axis=1)\n",
    "\n",
    "X_train,y_train  =build_x_svm_and_y_svm(train_df,'label','resized_image')\n",
    "X_test,y_test =build_x_svm_and_y_svm(test_df,'label','resized_image')"
   ]
  },
  {
   "cell_type": "code",
   "execution_count": null,
   "id": "650aa431",
   "metadata": {},
   "outputs": [],
   "source": [
    "X_train.describe()"
   ]
  },
  {
   "cell_type": "code",
   "execution_count": null,
   "id": "88ca3503",
   "metadata": {},
   "outputs": [],
   "source": [
    "train_df"
   ]
  },
  {
   "cell_type": "code",
   "execution_count": null,
   "id": "3e50bbc5",
   "metadata": {},
   "outputs": [],
   "source": [
    "test_df.head()"
   ]
  },
  {
   "cell_type": "code",
   "execution_count": null,
   "id": "7fd8724d",
   "metadata": {},
   "outputs": [],
   "source": [
    "# Defining the parameters grid for GridSearchCV\n",
    "param_grid={'C':[0.1, 1, 10, 100, 1000, 10000, 100000],\n",
    "            'kernel':['rbf', 'sigmoid', 'linear', 'poly']}\n",
    "\n",
    "# Creating a support vector classifier\n",
    "svc=svm.SVC(probability=True)\n",
    "\n",
    "# Creating a model using GridSearchCV with the parameters grid\n",
    "model=GridSearchCV(svc,param_grid)"
   ]
  },
  {
   "cell_type": "code",
   "execution_count": null,
   "id": "52c27f8e",
   "metadata": {},
   "outputs": [],
   "source": [
    "l=[]\n",
    "for i in range(len(train_df)):\n",
    "  l.append([x for x in train_df.loc[i, \"resized_image\"]])"
   ]
  },
  {
   "cell_type": "code",
   "execution_count": null,
   "id": "a1b7a365",
   "metadata": {},
   "outputs": [],
   "source": [
    "d= pd.DataFrame(l)"
   ]
  },
  {
   "cell_type": "code",
   "execution_count": null,
   "id": "a2961dda",
   "metadata": {},
   "outputs": [],
   "source": [
    "d"
   ]
  },
  {
   "cell_type": "code",
   "execution_count": null,
   "id": "d1559afd",
   "metadata": {},
   "outputs": [],
   "source": [
    "d=d.dropna(axis=1)"
   ]
  },
  {
   "cell_type": "code",
   "execution_count": null,
   "id": "623b6740",
   "metadata": {},
   "outputs": [],
   "source": [
    "pca = PCA(n_components=11)"
   ]
  },
  {
   "cell_type": "code",
   "execution_count": null,
   "id": "213078d7",
   "metadata": {},
   "outputs": [],
   "source": [
    "pca.fit(d)"
   ]
  },
  {
   "cell_type": "code",
   "execution_count": null,
   "id": "5dcc8904",
   "metadata": {},
   "outputs": [],
   "source": [
    "pca.explained_variance_ratio_.sum()"
   ]
  },
  {
   "cell_type": "code",
   "execution_count": null,
   "id": "6484fa44",
   "metadata": {},
   "outputs": [],
   "source": [
    "X_train_svm = pca.transform(d)"
   ]
  },
  {
   "cell_type": "code",
   "execution_count": null,
   "id": "00fe4e29",
   "metadata": {},
   "outputs": [],
   "source": [
    "model.fit(X_train_svm,y_train)"
   ]
  },
  {
   "cell_type": "code",
   "execution_count": null,
   "id": "13a89232",
   "metadata": {},
   "outputs": [],
   "source": [
    "model.best_params_"
   ]
  },
  {
   "cell_type": "code",
   "execution_count": null,
   "id": "8f55de4c",
   "metadata": {},
   "outputs": [],
   "source": [
    "m=[]\n",
    "for i in range(len(test_df)):\n",
    "  m.append([x for x in test_df.loc[i, \"resized_image\"]])"
   ]
  },
  {
   "cell_type": "code",
   "execution_count": null,
   "id": "5f581e2a",
   "metadata": {},
   "outputs": [],
   "source": [
    "m= pd.DataFrame(m)"
   ]
  },
  {
   "cell_type": "code",
   "execution_count": null,
   "id": "91088188",
   "metadata": {},
   "outputs": [],
   "source": [
    "m=m.dropna(axis=1)"
   ]
  },
  {
   "cell_type": "code",
   "execution_count": null,
   "id": "b95c6d0d",
   "metadata": {},
   "outputs": [],
   "source": [
    "m"
   ]
  },
  {
   "cell_type": "code",
   "execution_count": null,
   "id": "f1665dbe",
   "metadata": {},
   "outputs": [],
   "source": [
    "X_test = pca.transform(m)"
   ]
  },
  {
   "cell_type": "code",
   "execution_count": null,
   "id": "7ddf4931",
   "metadata": {},
   "outputs": [],
   "source": [
    "y_pred = model.predict(X_test)"
   ]
  },
  {
   "cell_type": "code",
   "execution_count": null,
   "id": "8ddc5688",
   "metadata": {},
   "outputs": [],
   "source": [
    "accuracy = accuracy_score(y_pred, y_test)"
   ]
  },
  {
   "cell_type": "code",
   "execution_count": null,
   "id": "be042b70",
   "metadata": {},
   "outputs": [],
   "source": [
    "accuracy"
   ]
  },
  {
   "cell_type": "code",
   "execution_count": null,
   "id": "53104264",
   "metadata": {},
   "outputs": [],
   "source": [
    "classification = classification_report(y_test, y_pred)"
   ]
  },
  {
   "cell_type": "code",
   "execution_count": null,
   "id": "83a3925e",
   "metadata": {},
   "outputs": [],
   "source": [
    "print(classification)"
   ]
  },
  {
   "cell_type": "code",
   "execution_count": null,
   "id": "d793991e",
   "metadata": {},
   "outputs": [],
   "source": [
    "metrics.confusion_matrix(y_pred, y_test)"
   ]
  },
  {
   "cell_type": "code",
   "execution_count": null,
   "id": "3f181ffe",
   "metadata": {},
   "outputs": [],
   "source": [
    "import datetime\n",
    "def save_model(model, basename):\n",
    "  \"\"\"Save tf/Keras model\n",
    "\n",
    "  Model file is named model + timestamp.\n",
    "\n",
    "  Parameters\n",
    "  ----------\n",
    "  model (tf/Keras model): model to be saved\n",
    "  basename: location to save model file\n",
    "  \"\"\"\n",
    "  model('{}.sav'.format(basename))\n",
    "  return"
   ]
  },
  {
   "cell_type": "code",
   "execution_count": null,
   "id": "098708e0",
   "metadata": {},
   "outputs": [],
   "source": [
    "filename = 'model_vgg/model.sav'"
   ]
  },
  {
   "cell_type": "code",
   "execution_count": null,
   "id": "315741de",
   "metadata": {},
   "outputs": [],
   "source": [
    "import pickle"
   ]
  },
  {
   "cell_type": "code",
   "execution_count": null,
   "id": "043e1b98",
   "metadata": {},
   "outputs": [],
   "source": [
    "pickle.dump(model, open(filename,\"wb\"))"
   ]
  },
  {
   "cell_type": "code",
   "execution_count": null,
   "id": "821c7c3e",
   "metadata": {},
   "outputs": [],
   "source": [
    "with open(filename, 'rb') as handle:\n",
    "        model = pickle.load(handle)\n",
    "        \n",
    "\n"
   ]
  },
  {
   "cell_type": "code",
   "execution_count": null,
   "id": "2a78f418",
   "metadata": {},
   "outputs": [],
   "source": [
    "X_test[135]"
   ]
  },
  {
   "cell_type": "code",
   "execution_count": null,
   "id": "885d86e3",
   "metadata": {},
   "outputs": [],
   "source": [
    "model.predict(X_test[40].reshape(-1,11))"
   ]
  },
  {
   "cell_type": "code",
   "execution_count": null,
   "id": "7d78a0b2",
   "metadata": {},
   "outputs": [],
   "source": [
    "#création du excel pour visualiser sur qu'elle facture il c'est tromper"
   ]
  },
  {
   "cell_type": "code",
   "execution_count": null,
   "id": "a1748e2a",
   "metadata": {},
   "outputs": [],
   "source": [
    "test_df.to_excel('res_excel/test.xlsx')"
   ]
  },
  {
   "cell_type": "code",
   "execution_count": null,
   "id": "088ecd61",
   "metadata": {},
   "outputs": [],
   "source": [
    "df_ypred = pd.DataFrame(y_pred)"
   ]
  },
  {
   "cell_type": "code",
   "execution_count": null,
   "id": "ca8fb976",
   "metadata": {},
   "outputs": [],
   "source": [
    "df_ypred.to_excel('res_excel/test_pred.xlsx')"
   ]
  },
  {
   "cell_type": "code",
   "execution_count": null,
   "id": "59e96e90",
   "metadata": {},
   "outputs": [],
   "source": [
    "y_test.to_excel('res_excel/test_image.xlsx')"
   ]
  }
 ],
 "metadata": {
  "kernelspec": {
   "display_name": "Python 3 (ipykernel)",
   "language": "python",
   "name": "python3"
  },
  "language_info": {
   "codemirror_mode": {
    "name": "ipython",
    "version": 3
   },
   "file_extension": ".py",
   "mimetype": "text/x-python",
   "name": "python",
   "nbconvert_exporter": "python",
   "pygments_lexer": "ipython3",
   "version": "3.11.5"
  }
 },
 "nbformat": 4,
 "nbformat_minor": 5
}
