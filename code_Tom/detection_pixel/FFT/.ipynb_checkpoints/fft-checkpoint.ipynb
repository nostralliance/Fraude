{
 "cells": [
  {
   "cell_type": "code",
   "execution_count": 2,
   "id": "ea2a85d2",
   "metadata": {},
   "outputs": [],
   "source": [
    "import numpy as np\n",
    "import cv2\n",
    "import matplotlib.pyplot as plt"
   ]
  },
  {
   "cell_type": "code",
   "execution_count": 68,
   "id": "b28bbc93",
   "metadata": {},
   "outputs": [
    {
     "name": "stdout",
     "output_type": "stream",
     "text": [
      "magnitude_spectrum :  [[122.616824   126.76235497 138.75808624 ... 138.75808624 126.76235497\n",
      "  122.616824  ]\n",
      " [129.48983384 137.39034623 147.71598692 ... 102.84157282 138.62730692\n",
      "  128.75596926]\n",
      " [139.04290399 117.89853462 130.90726467 ... 137.1588087  128.35876731\n",
      "  139.38158561]\n",
      " ...\n",
      " [110.27355862 131.93814779 137.43433977 ... 142.50708681 138.06261669\n",
      "  122.00269666]\n",
      " [139.38158561 128.35876731 137.1588087  ... 130.90726467 117.89853462\n",
      "  139.04290399]\n",
      " [128.75596926 138.62730692 102.84157282 ... 147.71598692 137.39034623\n",
      "  129.48983384]]\n",
      "L'image n'est pas floue.\n"
     ]
    }
   ],
   "source": [
    "# Charger l'image en niveaux de gris\n",
    "image_1 = cv2.imread('faux_test.png', cv2.IMREAD_GRAYSCALE)\n",
    "image_2 = cv2.imread('faux_test_modified.png', cv2.IMREAD_GRAYSCALE)\n",
    "\n",
    "import cv2\n",
    "import numpy as np\n",
    "\n",
    "def blur_detection(image):\n",
    "    \n",
    "    # Appliquer la transformée de Fourier 2D\n",
    "    f = np.fft.fft2(image)\n",
    "    fshift = np.fft.fftshift(f)\n",
    "    magnitude_spectrum = 20 * np.log(np.abs(fshift))\n",
    "    # Calculer la métrique de netteté\n",
    "    sharpness_metric = np.mean(magnitude_spectrum)\n",
    "    \n",
    "    return sharpness_metric\n",
    "\n",
    "\n",
    "# Détecter le flou dans l'image\n",
    "sharpness = blur_detection(image_1)\n",
    "\n",
    "# Définir un seuil pour déterminer si l'image est floue\n",
    "seuil = 150  # Ajustez ce seuil selon vos besoins\n",
    "\n",
    "if sharpness < seuil:\n",
    "    print(\"L'image est floue.\")\n",
    "else:\n",
    "    print(\"L'image n'est pas floue.\")\n"
   ]
  },
  {
   "cell_type": "code",
   "execution_count": null,
   "id": "e994a62a",
   "metadata": {},
   "outputs": [],
   "source": []
  }
 ],
 "metadata": {
  "kernelspec": {
   "display_name": "Python 3 (ipykernel)",
   "language": "python",
   "name": "python3"
  },
  "language_info": {
   "codemirror_mode": {
    "name": "ipython",
    "version": 3
   },
   "file_extension": ".py",
   "mimetype": "text/x-python",
   "name": "python",
   "nbconvert_exporter": "python",
   "pygments_lexer": "ipython3",
   "version": "3.11.5"
  }
 },
 "nbformat": 4,
 "nbformat_minor": 5
}
